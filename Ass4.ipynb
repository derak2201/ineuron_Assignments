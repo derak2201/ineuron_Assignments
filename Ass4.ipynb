{
 "cells": [
  {
   "cell_type": "markdown",
   "metadata": {},
   "source": [
    "1.1 Write a Python Program(with class concepts) to find the area of the triangle using the below\n",
    "formula.\n",
    "area = (s*(s-a)*(s-b)*(s-c)) ** 0.5\n",
    "Function to take the length of the sides of triangle from user should be defined in the parent\n",
    "class and function to calculate the area should be defined in subclass."
   ]
  },
  {
   "cell_type": "code",
   "execution_count": 42,
   "metadata": {},
   "outputs": [
    {
     "name": "stdout",
     "output_type": "stream",
     "text": [
      "Lenth of side1: 4\n",
      "Lenth of side2: 5\n",
      "Lenth of side3: 6\n",
      "9.921567\n"
     ]
    }
   ],
   "source": [
    "class parameters():\n",
    "    def __init__(self):\n",
    "        self.a = int(input('Lenth of side1: '))\n",
    "        self.b = int(input('Lenth of side2: '))\n",
    "        self.c = int(input('Lenth of side3: '))\n",
    "class area_tri(parameters):\n",
    "    def __init__(self):\n",
    "        super().__init__()\n",
    "        s = (self.a+self.b+self.c)/2\n",
    "        self.area = (s*(s-self.a)*(s-self.b)*(s-self.c)) ** 0.5\n",
    "    def __str__(self):\n",
    "        return '%f'%(self.area)\n",
    "AOT = area_tri()\n",
    "print(AOT)\n",
    "    "
   ]
  },
  {
   "cell_type": "markdown",
   "metadata": {},
   "source": [
    "1.2 Write a function filter_long_words() that takes a list of words and an integer n and returns\n",
    "the list of words that are longer than n."
   ]
  },
  {
   "cell_type": "code",
   "execution_count": 92,
   "metadata": {},
   "outputs": [],
   "source": [
    "def filter_long_words(ls,n):\n",
    "    ls1 = []\n",
    "    for i in ls:\n",
    "        if len(i)>n:\n",
    "            ls1.append(i)\n",
    "    return ls1"
   ]
  },
  {
   "cell_type": "code",
   "execution_count": 93,
   "metadata": {},
   "outputs": [
    {
     "data": {
      "text/plain": [
       "['Rakesh', 'nvsdcivn']"
      ]
     },
     "execution_count": 93,
     "metadata": {},
     "output_type": "execute_result"
    }
   ],
   "source": [
    "a = filter_long_words(['Rakesh','ABCD','nvsdcivn','nviem'],5)\n",
    "a"
   ]
  },
  {
   "cell_type": "markdown",
   "metadata": {},
   "source": [
    "2.1 Write a Python program using function concept that maps list of words into a list of integers\n",
    "representing the lengths of the corresponding words.\n",
    "Hint: If a list [ ab,cde,erty] is passed on to the python function output should come as [2,3,4]\n",
    "Here 2,3 and 4 are the lengths of the words in the list."
   ]
  },
  {
   "cell_type": "code",
   "execution_count": 54,
   "metadata": {},
   "outputs": [],
   "source": [
    "ls = ['Rakesh','ABCD','nvivn','nviem']\n",
    "def lsofwords_into_lsofintegers(ls):\n",
    "    ls1 = list()\n",
    "    for i in ls:\n",
    "        a = len(i)\n",
    "        ls1.append(a)\n",
    "    return ls1"
   ]
  },
  {
   "cell_type": "code",
   "execution_count": 55,
   "metadata": {},
   "outputs": [
    {
     "data": {
      "text/plain": [
       "[6, 4, 5, 5]"
      ]
     },
     "execution_count": 55,
     "metadata": {},
     "output_type": "execute_result"
    }
   ],
   "source": [
    "ls_int = lsofwords_into_lsofintegers(ls)\n",
    "ls_int"
   ]
  },
  {
   "cell_type": "markdown",
   "metadata": {},
   "source": [
    "2.2 Write a Python function which takes a character (i.e. a string of length 1) and returns True if\n",
    "it is a vowel, False otherwise."
   ]
  },
  {
   "cell_type": "code",
   "execution_count": 77,
   "metadata": {},
   "outputs": [],
   "source": [
    "def Vowel_or_not():\n",
    "    a = input('Enter a character: ')\n",
    "    if len(a)==1:\n",
    "        if a in ['a','e','i','o','u','A','E','I','O','U']:\n",
    "            return True\n",
    "        else:\n",
    "            return False\n",
    "    else:\n",
    "        print('Wrong Entry')"
   ]
  },
  {
   "cell_type": "code",
   "execution_count": 78,
   "metadata": {},
   "outputs": [
    {
     "name": "stdout",
     "output_type": "stream",
     "text": [
      "Enter a character: ac\n",
      "Wrong Entry\n"
     ]
    }
   ],
   "source": [
    "value = Vowel_or_not()\n",
    "value"
   ]
  },
  {
   "cell_type": "code",
   "execution_count": 96,
   "metadata": {},
   "outputs": [
    {
     "data": {
      "text/plain": [
       "'C:\\\\Users\\\\Rakesh\\\\INeuron\\\\Practice Assignments'"
      ]
     },
     "execution_count": 96,
     "metadata": {},
     "output_type": "execute_result"
    }
   ],
   "source": [
    "pwd"
   ]
  }
 ],
 "metadata": {
  "kernelspec": {
   "display_name": "Python 3",
   "language": "python",
   "name": "python3"
  },
  "language_info": {
   "codemirror_mode": {
    "name": "ipython",
    "version": 3
   },
   "file_extension": ".py",
   "mimetype": "text/x-python",
   "name": "python",
   "nbconvert_exporter": "python",
   "pygments_lexer": "ipython3",
   "version": "3.8.3"
  }
 },
 "nbformat": 4,
 "nbformat_minor": 4
}
